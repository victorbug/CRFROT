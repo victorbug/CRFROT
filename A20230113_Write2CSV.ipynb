{
 "cells": [
  {
   "cell_type": "code",
   "execution_count": 1,
   "metadata": {},
   "outputs": [],
   "source": [
    "import os"
   ]
  },
  {
   "cell_type": "code",
   "execution_count": 26,
   "metadata": {},
   "outputs": [
    {
     "data": {
      "text/plain": [
       "'\\nclass class_write2CSV():    \\n    def func_write_ToCSV2(self,\\n                        miou, \\n                         imgPath,\\n                         elegirRGBslots, \\n                         ParametroXY, \\n                         ParametroRGB,                       \\n                         inference, \\n                         pairwisebilateralCompat,\\n                         libreria,                      \\n                         nombrearchivoIn):           \\n\\n        from csv import DictWriter\\n\\n        encabezado=\"miou,imgPath,elegirRGBslots,ParametroXY,ParametroRGB,inference,pairwisebilateralCompat,libreria,nombrearchivoIn\\n\"\\n        encabezadoBulean=os.path.exists(r\"outputsMasivos/\"+nombrearchivoIn)#Para guardar el header una sola vez\\n\\n\\n        field_names = [\\'miou\\', \\'imgPath\\', \\'elegirRGBslots\\',\\'ParametroXY\\',\\'ParametroRGB\\',\\n                       \\'inference\\',\\'pairwisebilateralCompat\\',\\'libreria\\',\\'nombrearchivoIn\\']\\n\\n        # Dictionary\\n        dict={\\'miou\\':miou,\\n              \\'imgPath\\':imgPath,\\n              \\'elegirRGBslots\\':elegirRGBslots,\\n              \\'ParametroXY\\':ParametroXY,\\n              \\'ParametroRGB\\':ParametroRGB, \\n              \\'inference\\':inference,\\n              \\'pairwisebilateralCompat\\':pairwisebilateralCompat,\\n              \"libreria\":libreria,\\n              \\'nombrearchivoIn\\':nombrearchivoIn\\n             }\\n\\n        with open(r\"outputsMasivos/\"+nombrearchivoIn, \\'a\\') as f_object:\\n\\n            if(encabezadoBulean==False):\\n                f_object.write(encabezado)\\n\\n            dictwriter_object = DictWriter(f_object, fieldnames=field_names)\\n\\n            dictwriter_object.writerow(dict)\\n            f_object.close()\\n\\n        return()\\n'"
      ]
     },
     "execution_count": 26,
     "metadata": {},
     "output_type": "execute_result"
    }
   ],
   "source": [
    "\"\"\"\n",
    "class class_write2CSV():    \n",
    "    def func_write_ToCSV2(self,\n",
    "                        miou, \n",
    "                         imgPath,\n",
    "                         elegirRGBslots, \n",
    "                         ParametroXY, \n",
    "                         ParametroRGB,                       \n",
    "                         inference, \n",
    "                         pairwisebilateralCompat,\n",
    "                         libreria,                      \n",
    "                         nombrearchivoIn):           \n",
    "\n",
    "        from csv import DictWriter\n",
    "\n",
    "        encabezado=\"miou,imgPath,elegirRGBslots,ParametroXY,ParametroRGB,inference,pairwisebilateralCompat,libreria,nombrearchivoIn\\n\"\n",
    "        encabezadoBulean=os.path.exists(r\"outputsMasivos/\"+nombrearchivoIn)#Para guardar el header una sola vez\n",
    "\n",
    "\n",
    "        field_names = ['miou', 'imgPath', 'elegirRGBslots','ParametroXY','ParametroRGB',\n",
    "                       'inference','pairwisebilateralCompat','libreria','nombrearchivoIn']\n",
    "\n",
    "        # Dictionary\n",
    "        dict={'miou':miou,\n",
    "              'imgPath':imgPath,\n",
    "              'elegirRGBslots':elegirRGBslots,\n",
    "              'ParametroXY':ParametroXY,\n",
    "              'ParametroRGB':ParametroRGB, \n",
    "              'inference':inference,\n",
    "              'pairwisebilateralCompat':pairwisebilateralCompat,\n",
    "              \"libreria\":libreria,\n",
    "              'nombrearchivoIn':nombrearchivoIn\n",
    "             }\n",
    "\n",
    "        with open(r\"outputsMasivos/\"+nombrearchivoIn, 'a') as f_object:\n",
    "\n",
    "            if(encabezadoBulean==False):\n",
    "                f_object.write(encabezado)\n",
    "\n",
    "            dictwriter_object = DictWriter(f_object, fieldnames=field_names)\n",
    "\n",
    "            dictwriter_object.writerow(dict)\n",
    "            f_object.close()\n",
    "\n",
    "        return()\n",
    "\"\"\""
   ]
  },
  {
   "cell_type": "code",
   "execution_count": 23,
   "metadata": {},
   "outputs": [],
   "source": [
    "class class_write2CSV():    \n",
    "    def func_write_ToCSV(self,\n",
    "                        dict_DatosIn):#Debe estar presente el \"key\" str_nombrearchivoIn y su \"value\" en el diccionario sí o sí\n",
    "\n",
    "        from csv import DictWriter\n",
    "\n",
    "        #encabezado=\"miou,imgPath,elegirRGBslots,ParametroXY,ParametroRGB,inference,pairwisebilateralCompat,libreria,nombrearchivoIn\\n\"\n",
    "        \n",
    "        str_keys=\",\".join(list(dict_DatosIn.keys()))\n",
    "        str_encabezado=str_keys+\"\\n\"\n",
    "        \n",
    "        boo_encabezadoBulean=os.path.exists(r\"outputsMasivos/\"+dict_DatosIn[\"str_nombrearchivoIn\"])#Para guardar el header una sola vez\n",
    "\n",
    "\n",
    "        #field_names = ['miou', 'imgPath', 'elegirRGBslots','ParametroXY','ParametroRGB',\n",
    "        #               'inference','pairwisebilateralCompat','libreria','nombrearchivoIn']\n",
    "        lst_field_names = list(dict_DatosIn.keys())\n",
    "        \n",
    "        \"\"\"\n",
    "        # Dictionary\n",
    "        dict={'miou':miou,\n",
    "              'imgPath':imgPath,\n",
    "              'elegirRGBslots':elegirRGBslots,\n",
    "              'ParametroXY':ParametroXY,\n",
    "              'ParametroRGB':ParametroRGB, \n",
    "              'inference':inference,\n",
    "              'pairwisebilateralCompat':pairwisebilateralCompat,\n",
    "              \"libreria\":libreria,\n",
    "              'nombrearchivoIn':nombrearchivoIn\n",
    "             }\n",
    "        \"\"\"\n",
    "\n",
    "        #with open(r\"outputsMasivos/\"+nombrearchivoIn, 'a') as f_object:\n",
    "        str_nombreArchivo=r\"outputsMasivos/\"+dict_DatosIn[\"str_nombrearchivoIn\"]#20230616\n",
    "        #with open(r\"outputsMasivos/\"+dict_DatosIn[\"str_nombrearchivoIn\"], 'a') as f_object:\n",
    "        with open(str_nombreArchivo, 'a') as f_object: #20230616\n",
    "\n",
    "            if(boo_encabezadoBulean==False):#La primera vez solamente\n",
    "                #f_object.write(str_messageIn+r\"\\n\"+str_encabezado)\n",
    "                f_object.write(str_encabezado)\n",
    "\n",
    "            dictwriter_object = DictWriter(f_object, fieldnames=lst_field_names)\n",
    "\n",
    "            dictwriter_object.writerow(dict_DatosIn)\n",
    "            f_object.close()\n",
    "                                                          \n",
    "        print(\"CSV guardado en: \",str_nombreArchivo)\n",
    "        return()"
   ]
  },
  {
   "cell_type": "markdown",
   "metadata": {},
   "source": [
    "# TESTS"
   ]
  },
  {
   "cell_type": "code",
   "execution_count": 27,
   "metadata": {},
   "outputs": [
    {
     "data": {
      "text/plain": [
       "'\\nif __name__ == \"__main__\":\\n    class_write2CSV().func_write_ToCSV(miou=0.7,\\n                                     imgPath=\"dasdad\",\\n                                     elegirRGBslots=\"C1RC2GC3B_2\",\\n                                     ParametroXY=(1,1),\\n                                     ParametroRGB=(1,1,1),\\n                                     inference=2,\\n                                     pairwisebilateralCompat=10,\\n                                     libreria=\"linreriaoriginal\",\\n                                     nombrearchivoIn=\"asdsad.csv\"\\n                                    )\\n'"
      ]
     },
     "execution_count": 27,
     "metadata": {},
     "output_type": "execute_result"
    }
   ],
   "source": [
    "\"\"\"\n",
    "if __name__ == \"__main__\":\n",
    "    class_write2CSV().func_write_ToCSV(miou=0.7,\n",
    "                                     imgPath=\"dasdad\",\n",
    "                                     elegirRGBslots=\"C1RC2GC3B_2\",\n",
    "                                     ParametroXY=(1,1),\n",
    "                                     ParametroRGB=(1,1,1),\n",
    "                                     inference=2,\n",
    "                                     pairwisebilateralCompat=10,\n",
    "                                     libreria=\"linreriaoriginal\",\n",
    "                                     nombrearchivoIn=\"asdsad.csv\"\n",
    "                                    )\n",
    "\"\"\""
   ]
  },
  {
   "cell_type": "code",
   "execution_count": 25,
   "metadata": {},
   "outputs": [],
   "source": [
    "if __name__ == \"__main__\":\n",
    "    class_write2CSV().func_write_ToCSV(dict_DatosIn={\"miou\":0.7,\n",
    "                                                     \"imgPath\":\"dasdad\",\n",
    "                                                     \"elegirRGBslots\":\"C1RC2GC3B_2\",\n",
    "                                                     \"ParametroXY\":(1,1),\n",
    "                                                     \"ParametroRGB\":(1,1,1),\n",
    "                                                     \"inference\":2,\n",
    "                                                     \"pairwisebilateralCompat\":10,\n",
    "                                                     \"libreria\":\"linreriaoriginal\",\n",
    "                                                     \"str_nombrearchivoIn\":\"asdsad.csv\"}\n",
    "                                      )"
   ]
  },
  {
   "cell_type": "code",
   "execution_count": 28,
   "metadata": {},
   "outputs": [],
   "source": [
    "#dict_aux={\"pelota\":1, \"perro\":2, \"casa\":3}\n",
    "#dict_aux"
   ]
  },
  {
   "cell_type": "code",
   "execution_count": 29,
   "metadata": {},
   "outputs": [],
   "source": [
    "#list(dict_aux.keys())"
   ]
  },
  {
   "cell_type": "code",
   "execution_count": 32,
   "metadata": {},
   "outputs": [],
   "source": [
    "#list(dict_aux.values())    "
   ]
  },
  {
   "cell_type": "code",
   "execution_count": 31,
   "metadata": {},
   "outputs": [],
   "source": [
    "#\",\".join(list(dict_In.keys()))"
   ]
  },
  {
   "cell_type": "code",
   "execution_count": null,
   "metadata": {},
   "outputs": [],
   "source": []
  }
 ],
 "metadata": {
  "anaconda-cloud": {},
  "kernelspec": {
   "display_name": "Python 3 (ipykernel)",
   "language": "python",
   "name": "python3"
  },
  "language_info": {
   "codemirror_mode": {
    "name": "ipython",
    "version": 3
   },
   "file_extension": ".py",
   "mimetype": "text/x-python",
   "name": "python",
   "nbconvert_exporter": "python",
   "pygments_lexer": "ipython3",
   "version": "3.8.10"
  }
 },
 "nbformat": 4,
 "nbformat_minor": 4
}
