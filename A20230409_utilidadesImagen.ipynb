{
 "cells": [
  {
   "cell_type": "code",
   "execution_count": 1,
   "metadata": {},
   "outputs": [],
   "source": [
    "import pandas as pd\n",
    "import cv2\n",
    "import numpy as np"
   ]
  },
  {
   "cell_type": "code",
   "execution_count": 2,
   "metadata": {},
   "outputs": [
    {
     "name": "stderr",
     "output_type": "stream",
     "text": [
      "/tmp/ipykernel_542876/3777615979.py:1: DeprecationWarning: Importing display from IPython.core.display is deprecated since IPython 7.14, please import from IPython display\n",
      "  from IPython.core.display import display, HTML\n"
     ]
    },
    {
     "data": {
      "text/html": [
       "<style>.container { width:100% !important; }</style>"
      ],
      "text/plain": [
       "<IPython.core.display.HTML object>"
      ]
     },
     "metadata": {},
     "output_type": "display_data"
    }
   ],
   "source": [
    "from IPython.core.display import display, HTML\n",
    "display(HTML(\"<style>.container { width:100% !important; }</style>\"))"
   ]
  },
  {
   "cell_type": "code",
   "execution_count": 3,
   "metadata": {},
   "outputs": [],
   "source": [
    "pd.set_option('display.width', 200)\n",
    "pd.set_option('display.max_rows',10)\n",
    "pd.set_option('display.max_columns', 50)\n",
    "\n",
    "def display_full(x):\n",
    "    pd.set_option('display.max_rows', len(x))\n",
    "    pd.set_option('display.max_columns', x.shape[1])\n",
    "    display(x)\n",
    "    pd.set_option('display.max_rows',10)\n",
    "    pd.set_option('display.max_columns', 50)\n",
    "def display_head1(x):\n",
    "    pd.set_option('display.max_rows', 1)\n",
    "    display(x)\n",
    "    pd.set_option('display.max_rows',10)"
   ]
  },
  {
   "cell_type": "code",
   "execution_count": 4,
   "metadata": {},
   "outputs": [],
   "source": [
    "class class_utilidadesImagen():    \n",
    "    def func_read_Img(self,\n",
    "                     str_imgPathIn, tipo): \n",
    "        \n",
    "        if (tipo==\"Gris\"):\n",
    "            imgAux=cv2.imread(str_imgPathIn, cv2.IMREAD_GRAYSCALE)\n",
    "            \n",
    "        if (tipo==\"RGB\"):\n",
    "            #cv2.cvtColor(cv2.imread(str_imgPathIn), cv2.COLOR_BGR2RGB)\n",
    "            imgAux=cv2.imread(str_imgPathIn, cv2.COLOR_BGR2RGB)\n",
    "        if (tipo==\"RGB2\"):\n",
    "            imgAux=cv2.cvtColor(cv2.imread(str_imgPathIn), cv2.COLOR_BGR2RGB)\n",
    "            #imgAux=cv2.imread(str_imgPathIn, cv2.COLOR_BGR2RGB)\n",
    "        \n",
    "        print(\"np.unique(imgAux)\", np.unique(imgAux))\n",
    "            \n",
    "        #print(\"np.unique()\")\n",
    "            "
   ]
  },
  {
   "cell_type": "markdown",
   "metadata": {},
   "source": [
    "# TESTS"
   ]
  },
  {
   "cell_type": "code",
   "execution_count": 5,
   "metadata": {},
   "outputs": [],
   "source": [
    "#from tabulate import tabulate"
   ]
  },
  {
   "cell_type": "code",
   "execution_count": 6,
   "metadata": {},
   "outputs": [],
   "source": [
    "#df_aux\n",
    "\n",
    "#df_aux.columns = ['a', 'b', 'c', 'd']"
   ]
  },
  {
   "cell_type": "code",
   "execution_count": 12,
   "metadata": {},
   "outputs": [
    {
     "name": "stdout",
     "output_type": "stream",
     "text": [
      "np.unique(imgAux) [0 1]\n",
      "np.unique(imgAux) [0 1]\n",
      "np.unique(imgAux) [0 1]\n",
      "np.unique(imgAux) [  0  88  99 137 154 170 177 182 188 200 217 233 240 242 244 252 254 255]\n",
      "np.unique(imgAux) [  0  88  99 137 154 170 177 182 188 200 217 233 240 242 244 252 254 255]\n",
      "np.unique(imgAux) [  0  88  99 137 154 170 177 182 188 200 217 233 240 242 244 252 254 255]\n"
     ]
    }
   ],
   "source": [
    "if __name__ == \"__main__\":\n",
    "    #str_df=r\"./outputsMasivos/20230409_0146A20230112_CRF.csv\"\n",
    "    class_utilidadesImagen().func_read_Img(\"selkam2binary.png\", \"Gris\")\n",
    "    class_utilidadesImagen().func_read_Img(\"selkam2binary.png\", \"RGB\")\n",
    "    class_utilidadesImagen().func_read_Img(\"selkam2binary.png\", \"RGB2\")\n",
    "    \n",
    "    class_utilidadesImagen().func_read_Img(\"selkam2.png\", \"Gris\")\n",
    "    class_utilidadesImagen().func_read_Img(\"selkam2.png\", \"RGB\")\n",
    "    class_utilidadesImagen().func_read_Img(\"selkam2.png\", \"RGB2\")\n",
    "    \n",
    "    \n",
    "    #df_aux\n",
    "    #print(\"Mejora: \",\"Mejora\" in df_aux[r\"CRFmejora?\"])\n",
    "    #print(\"np.unique(df_aux[rCRFmejora?])\", np.unique(df_aux[r\"CRFmejora?\"]))\n",
    "    \n",
    "    #display_full(df_aux)"
   ]
  },
  {
   "cell_type": "code",
   "execution_count": 8,
   "metadata": {},
   "outputs": [],
   "source": [
    "#dict_aux={\"pelota\":1, \"perro\":2, \"casa\":3}\n",
    "#dict_aux"
   ]
  },
  {
   "cell_type": "code",
   "execution_count": 9,
   "metadata": {},
   "outputs": [],
   "source": [
    "#list(dict_aux.keys())"
   ]
  },
  {
   "cell_type": "code",
   "execution_count": 10,
   "metadata": {},
   "outputs": [],
   "source": [
    "#list(dict_aux.values())    "
   ]
  },
  {
   "cell_type": "code",
   "execution_count": 11,
   "metadata": {},
   "outputs": [],
   "source": [
    "#\",\".join(list(dict_In.keys()))"
   ]
  },
  {
   "cell_type": "raw",
   "metadata": {},
   "source": []
  }
 ],
 "metadata": {
  "anaconda-cloud": {},
  "kernelspec": {
   "display_name": "Python 3 (ipykernel)",
   "language": "python",
   "name": "python3"
  },
  "language_info": {
   "codemirror_mode": {
    "name": "ipython",
    "version": 3
   },
   "file_extension": ".py",
   "mimetype": "text/x-python",
   "name": "python",
   "nbconvert_exporter": "python",
   "pygments_lexer": "ipython3",
   "version": "3.8.10"
  }
 },
 "nbformat": 4,
 "nbformat_minor": 4
}
