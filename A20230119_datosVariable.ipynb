{
 "cells": [
  {
   "cell_type": "code",
   "execution_count": 1,
   "metadata": {},
   "outputs": [],
   "source": [
    "import numpy as np"
   ]
  },
  {
   "cell_type": "code",
   "execution_count": 2,
   "metadata": {},
   "outputs": [],
   "source": [
    "class class_datosVariable():\n",
    "\n",
    "    def func_datosVariable(self, variableIn, str_variableIn):\n",
    "        #str_title=\"Datos de la variable: \"+str_variableIn\n",
    "        print(\"\\x1b[32m\\\"Origen: class_datosVariable.func_datosVariable(). Destino: \"+str_variableIn+\"\\\"\\x1b[0m\")\n",
    "        #print(\"class_datosVariable Datos de la variable:\",str_variableIn)\n",
    "        #strvariableIn=str(variableIn)\n",
    "        #strvariableIn = f'{variableIn=}'.split('=')[0]\n",
    "        strvariableIn=\"variableIn\"\n",
    "\n",
    "        print(\"type(\"+strvariableIn+r\"): \",type(variableIn))\n",
    "        #print(strvariableIn+r\".shape: \",variableIn.shape)\n",
    "        #print(r\"np.min(\"+strvariableIn+r\"): \",np.min(variableIn))\n",
    "        #print(r\"np.max(\"+strvariableIn+r\"): \",np.max(variableIn))\n",
    "        print(r\"np.unique(\"+strvariableIn+r\"): \",np.unique(variableIn))\n",
    "        print(r\"len(np.unique(\"+strvariableIn+r\")): \",len(np.unique(variableIn)))\n",
    "        \n",
    "        if (type(variableIn)!=list):\n",
    "            print(strvariableIn+r\".shape: \",variableIn.shape)\n",
    "            print(r\"np.min(\"+strvariableIn+r\"): \",np.min(variableIn))\n",
    "            print(r\"np.max(\"+strvariableIn+r\"): \",np.max(variableIn))\n",
    "            print(r\"np.median(strvariableIn): \",np.median(variableIn)) \n",
    "            print(r\"np.mean(strvariableIn): \",np.mean(variableIn)) "
   ]
  },
  {
   "cell_type": "markdown",
   "metadata": {},
   "source": [
    "# TESTS"
   ]
  },
  {
   "cell_type": "code",
   "execution_count": 3,
   "metadata": {},
   "outputs": [
    {
     "name": "stdout",
     "output_type": "stream",
     "text": [
      "\u001b[32m\"Origen: class_datosVariable.func_datosVariable(). Destino: np_zeros\"\u001b[0m\n",
      "type(variableIn):  <class 'numpy.ndarray'>\n",
      "np.unique(variableIn):  [0.]\n",
      "len(np.unique(variableIn)):  1\n",
      "variableIn.shape:  (3, 3)\n",
      "np.min(variableIn):  0.0\n",
      "np.max(variableIn):  0.0\n",
      "np.median(strvariableIn):  0.0\n",
      "np.mean(strvariableIn):  0.0\n"
     ]
    }
   ],
   "source": [
    "if __name__ == \"__main__\":\n",
    "    \n",
    "    #import numpy as np\n",
    "    np_zeros=np.zeros(shape=(3,3))    \n",
    "    class_datosVariable().func_datosVariable(np_zeros, \"np_zeros\")"
   ]
  },
  {
   "cell_type": "code",
   "execution_count": null,
   "metadata": {},
   "outputs": [],
   "source": []
  }
 ],
 "metadata": {
  "anaconda-cloud": {},
  "kernelspec": {
   "display_name": "Python 3 (ipykernel)",
   "language": "python",
   "name": "python3"
  },
  "language_info": {
   "codemirror_mode": {
    "name": "ipython",
    "version": 3
   },
   "file_extension": ".py",
   "mimetype": "text/x-python",
   "name": "python",
   "nbconvert_exporter": "python",
   "pygments_lexer": "ipython3",
   "version": "3.8.10"
  }
 },
 "nbformat": 4,
 "nbformat_minor": 4
}
